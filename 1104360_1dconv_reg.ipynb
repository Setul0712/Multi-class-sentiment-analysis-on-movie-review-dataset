{
  "nbformat": 4,
  "nbformat_minor": 0,
  "metadata": {
    "colab": {
      "name": "NLP_ASSIGNMENT2 (1).ipynb",
      "provenance": [],
      "collapsed_sections": [],
      "toc_visible": true
    },
    "kernelspec": {
      "name": "python3",
      "display_name": "Python 3"
    },
    "accelerator": "GPU"
  },
  "cells": [
    {
      "cell_type": "markdown",
      "metadata": {
        "id": "QZ0SB2fFsFo_",
        "colab_type": "text"
      },
      "source": [
        "Exploring The Data\n"
      ]
    },
    {
      "cell_type": "code",
      "metadata": {
        "id": "LOP2cPb4sQh8",
        "colab_type": "code",
        "colab": {
          "base_uri": "https://localhost:8080/",
          "height": 170
        },
        "outputId": "1243fedf-470b-44a8-acc6-e08c13e82c0b"
      },
      "source": [
        "#importing libraries and downloading packages\n",
        "\n",
        "import pandas as pd\n",
        "from sklearn.model_selection import train_test_split\n",
        "import numpy as np\n",
        "import nltk\n",
        "nltk.download('punkt') \n",
        "nltk.download('stopwords') \n",
        "nltk.download('movie_reviews') \n",
        "nltk.download('wordnet')\n"
      ],
      "execution_count": 33,
      "outputs": [
        {
          "output_type": "stream",
          "text": [
            "[nltk_data] Downloading package punkt to /root/nltk_data...\n",
            "[nltk_data]   Package punkt is already up-to-date!\n",
            "[nltk_data] Downloading package stopwords to /root/nltk_data...\n",
            "[nltk_data]   Package stopwords is already up-to-date!\n",
            "[nltk_data] Downloading package movie_reviews to /root/nltk_data...\n",
            "[nltk_data]   Package movie_reviews is already up-to-date!\n",
            "[nltk_data] Downloading package wordnet to /root/nltk_data...\n",
            "[nltk_data]   Package wordnet is already up-to-date!\n"
          ],
          "name": "stdout"
        },
        {
          "output_type": "execute_result",
          "data": {
            "text/plain": [
              "True"
            ]
          },
          "metadata": {
            "tags": []
          },
          "execution_count": 33
        }
      ]
    },
    {
      "cell_type": "markdown",
      "metadata": {
        "id": "U2v58zkxukjt",
        "colab_type": "text"
      },
      "source": [
        "Mount Drive"
      ]
    },
    {
      "cell_type": "code",
      "metadata": {
        "id": "tfqfcyqwufEK",
        "colab_type": "code",
        "outputId": "8a618ca5-d91e-4838-d00c-515284c7de0d",
        "colab": {
          "base_uri": "https://localhost:8080/",
          "height": 54
        }
      },
      "source": [
        "#mounting drive \n",
        "\n",
        "from google.colab import drive\n",
        "drive.mount('/content/drive')"
      ],
      "execution_count": 34,
      "outputs": [
        {
          "output_type": "stream",
          "text": [
            "Drive already mounted at /content/drive; to attempt to forcibly remount, call drive.mount(\"/content/drive\", force_remount=True).\n"
          ],
          "name": "stdout"
        }
      ]
    },
    {
      "cell_type": "markdown",
      "metadata": {
        "id": "zNNfqT8pwYtH",
        "colab_type": "text"
      },
      "source": [
        "Reading Dataset\n"
      ]
    },
    {
      "cell_type": "code",
      "metadata": {
        "id": "bFAPjTy-tksm",
        "colab_type": "code",
        "outputId": "273d501d-5439-4d94-f258-7fc4d0354827",
        "colab": {
          "base_uri": "https://localhost:8080/",
          "height": 359
        }
      },
      "source": [
        "#Read database using pandas library\n",
        "\n",
        "dataset =  pd.read_csv('/content/drive/My Drive/train.tsv', sep='\\t')\n",
        "dataset = dataset.dropna()\n",
        "dataset.head(10)"
      ],
      "execution_count": 35,
      "outputs": [
        {
          "output_type": "execute_result",
          "data": {
            "text/html": [
              "<div>\n",
              "<style scoped>\n",
              "    .dataframe tbody tr th:only-of-type {\n",
              "        vertical-align: middle;\n",
              "    }\n",
              "\n",
              "    .dataframe tbody tr th {\n",
              "        vertical-align: top;\n",
              "    }\n",
              "\n",
              "    .dataframe thead th {\n",
              "        text-align: right;\n",
              "    }\n",
              "</style>\n",
              "<table border=\"1\" class=\"dataframe\">\n",
              "  <thead>\n",
              "    <tr style=\"text-align: right;\">\n",
              "      <th></th>\n",
              "      <th>PhraseId</th>\n",
              "      <th>SentenceId</th>\n",
              "      <th>Phrase</th>\n",
              "      <th>Sentiment</th>\n",
              "    </tr>\n",
              "  </thead>\n",
              "  <tbody>\n",
              "    <tr>\n",
              "      <th>0</th>\n",
              "      <td>1</td>\n",
              "      <td>1</td>\n",
              "      <td>A series of escapades demonstrating the adage ...</td>\n",
              "      <td>1</td>\n",
              "    </tr>\n",
              "    <tr>\n",
              "      <th>1</th>\n",
              "      <td>2</td>\n",
              "      <td>1</td>\n",
              "      <td>A series of escapades demonstrating the adage ...</td>\n",
              "      <td>2</td>\n",
              "    </tr>\n",
              "    <tr>\n",
              "      <th>2</th>\n",
              "      <td>3</td>\n",
              "      <td>1</td>\n",
              "      <td>A series</td>\n",
              "      <td>2</td>\n",
              "    </tr>\n",
              "    <tr>\n",
              "      <th>3</th>\n",
              "      <td>4</td>\n",
              "      <td>1</td>\n",
              "      <td>A</td>\n",
              "      <td>2</td>\n",
              "    </tr>\n",
              "    <tr>\n",
              "      <th>4</th>\n",
              "      <td>5</td>\n",
              "      <td>1</td>\n",
              "      <td>series</td>\n",
              "      <td>2</td>\n",
              "    </tr>\n",
              "    <tr>\n",
              "      <th>5</th>\n",
              "      <td>6</td>\n",
              "      <td>1</td>\n",
              "      <td>of escapades demonstrating the adage that what...</td>\n",
              "      <td>2</td>\n",
              "    </tr>\n",
              "    <tr>\n",
              "      <th>6</th>\n",
              "      <td>7</td>\n",
              "      <td>1</td>\n",
              "      <td>of</td>\n",
              "      <td>2</td>\n",
              "    </tr>\n",
              "    <tr>\n",
              "      <th>7</th>\n",
              "      <td>8</td>\n",
              "      <td>1</td>\n",
              "      <td>escapades demonstrating the adage that what is...</td>\n",
              "      <td>2</td>\n",
              "    </tr>\n",
              "    <tr>\n",
              "      <th>8</th>\n",
              "      <td>9</td>\n",
              "      <td>1</td>\n",
              "      <td>escapades</td>\n",
              "      <td>2</td>\n",
              "    </tr>\n",
              "    <tr>\n",
              "      <th>9</th>\n",
              "      <td>10</td>\n",
              "      <td>1</td>\n",
              "      <td>demonstrating the adage that what is good for ...</td>\n",
              "      <td>2</td>\n",
              "    </tr>\n",
              "  </tbody>\n",
              "</table>\n",
              "</div>"
            ],
            "text/plain": [
              "   PhraseId  ...  Sentiment\n",
              "0         1  ...          1\n",
              "1         2  ...          2\n",
              "2         3  ...          2\n",
              "3         4  ...          2\n",
              "4         5  ...          2\n",
              "5         6  ...          2\n",
              "6         7  ...          2\n",
              "7         8  ...          2\n",
              "8         9  ...          2\n",
              "9        10  ...          2\n",
              "\n",
              "[10 rows x 4 columns]"
            ]
          },
          "metadata": {
            "tags": []
          },
          "execution_count": 35
        }
      ]
    },
    {
      "cell_type": "code",
      "metadata": {
        "id": "DBnd7GiNvr7X",
        "colab_type": "code",
        "outputId": "516a8317-3432-4eee-ba32-531682e016c4",
        "colab": {
          "base_uri": "https://localhost:8080/",
          "height": 34
        }
      },
      "source": [
        "dataset.shape"
      ],
      "execution_count": 36,
      "outputs": [
        {
          "output_type": "execute_result",
          "data": {
            "text/plain": [
              "(156060, 4)"
            ]
          },
          "metadata": {
            "tags": []
          },
          "execution_count": 36
        }
      ]
    },
    {
      "cell_type": "code",
      "metadata": {
        "id": "gK36cXc2vw4A",
        "colab_type": "code",
        "outputId": "4ed4ebb7-a420-4528-d8df-5d2d2a9ce3f0",
        "colab": {
          "base_uri": "https://localhost:8080/",
          "height": 119
        }
      },
      "source": [
        "#Value counts for each sentiment\n",
        "dataset.Sentiment.value_counts()\n"
      ],
      "execution_count": 37,
      "outputs": [
        {
          "output_type": "execute_result",
          "data": {
            "text/plain": [
              "2    79582\n",
              "3    32927\n",
              "1    27273\n",
              "4     9206\n",
              "0     7072\n",
              "Name: Sentiment, dtype: int64"
            ]
          },
          "metadata": {
            "tags": []
          },
          "execution_count": 37
        }
      ]
    },
    {
      "cell_type": "markdown",
      "metadata": {
        "id": "XVUp6R5OxGFK",
        "colab_type": "text"
      },
      "source": [
        "Adjustable Parameters"
      ]
    },
    {
      "cell_type": "code",
      "metadata": {
        "id": "Uzyu99V_UvFI",
        "colab_type": "code",
        "colab": {}
      },
      "source": [
        "#Data cleaning\n",
        "\n",
        "remove_fPunct = True\n",
        "fTokenizaton = True\n",
        "fStopwords = True\n",
        "fStemming = False\n",
        "fLemmatization = True\n"
      ],
      "execution_count": 0,
      "outputs": []
    },
    {
      "cell_type": "markdown",
      "metadata": {
        "id": "HKtODFJPVEPf",
        "colab_type": "text"
      },
      "source": [
        "Data Cleaning | Punctuations"
      ]
    },
    {
      "cell_type": "code",
      "metadata": {
        "id": "VXvOmk8F_fyb",
        "colab_type": "code",
        "colab": {
          "base_uri": "https://localhost:8080/",
          "height": 34
        },
        "outputId": "b6a140df-8644-48c3-a499-4b15c36f25be"
      },
      "source": [
        "#punctuations\n",
        "import string\n",
        "print(string.punctuation)"
      ],
      "execution_count": 39,
      "outputs": [
        {
          "output_type": "stream",
          "text": [
            "!\"#$%&'()*+,-./:;<=>?@[\\]^_`{|}~\n"
          ],
          "name": "stdout"
        }
      ]
    },
    {
      "cell_type": "code",
      "metadata": {
        "id": "XN4KMFgCDAXs",
        "colab_type": "code",
        "colab": {}
      },
      "source": [
        "def remove_punctuation(text):\n",
        "  txt_nonpunct = \"\".join([a for a in text if a not in string.punctuation])\n",
        "  return txt_nonpunct "
      ],
      "execution_count": 0,
      "outputs": []
    },
    {
      "cell_type": "code",
      "metadata": {
        "id": "XRn28Jk_DYGn",
        "colab_type": "code",
        "colab": {}
      },
      "source": [
        "if remove_fPunct:\n",
        "  dataset['Phrase'] = dataset['Phrase'].apply(lambda x: remove_punctuation(x)) "
      ],
      "execution_count": 0,
      "outputs": []
    },
    {
      "cell_type": "code",
      "metadata": {
        "id": "PbimWUGpFiOa",
        "colab_type": "code",
        "colab": {}
      },
      "source": [
        "#Tokenization\n",
        "import re\n",
        "\n",
        "def tokenize(text):\n",
        "  tokens = re.split('\\W+', text)\n",
        "  return tokens \n",
        "\n",
        "if fTokenizaton:\n",
        "  dataset['Phrase'] = dataset['Phrase'].apply(lambda x: tokenize(x.lower()))"
      ],
      "execution_count": 0,
      "outputs": []
    },
    {
      "cell_type": "code",
      "metadata": {
        "id": "ihAJokODHp_L",
        "colab_type": "code",
        "colab": {
          "base_uri": "https://localhost:8080/",
          "height": 34
        },
        "outputId": "a201c739-3cd1-42f4-cafe-09356e04d750"
      },
      "source": [
        "#Stopwords\n",
        "import nltk \n",
        "\n",
        "stopwords = nltk.corpus.stopwords.words('english')\n",
        "stopwords[0:10]\n"
      ],
      "execution_count": 43,
      "outputs": [
        {
          "output_type": "execute_result",
          "data": {
            "text/plain": [
              "['i', 'me', 'my', 'myself', 'we', 'our', 'ours', 'ourselves', 'you', \"you're\"]"
            ]
          },
          "metadata": {
            "tags": []
          },
          "execution_count": 43
        }
      ]
    },
    {
      "cell_type": "code",
      "metadata": {
        "id": "ZI3ZmGYJIB9c",
        "colab_type": "code",
        "colab": {}
      },
      "source": [
        "#remove stopwords\n",
        "def remove_stopwords(txt_tokenized):\n",
        "  txt_clean = [word for word in txt_tokenized if word not in stopwords]\n",
        "  return txt_clean\n",
        "\n",
        "if fStopwords:\n",
        "  dataset['Phrase'] = dataset['Phrase'].apply(lambda x: remove_stopwords(x))"
      ],
      "execution_count": 0,
      "outputs": []
    },
    {
      "cell_type": "code",
      "metadata": {
        "id": "fV5IpZ6jKYlH",
        "colab_type": "code",
        "colab": {}
      },
      "source": [
        "#Stemming\n",
        "from nltk.stem import PorterStemmer\n",
        "ps = PorterStemmer()"
      ],
      "execution_count": 0,
      "outputs": []
    },
    {
      "cell_type": "code",
      "metadata": {
        "id": "2uj82xnvRkuo",
        "colab_type": "code",
        "colab": {}
      },
      "source": [
        "def stemming(tokenized_text):\n",
        "  text = [ps.stem(word) for word in tokenized_text]\n",
        "  return text"
      ],
      "execution_count": 0,
      "outputs": []
    },
    {
      "cell_type": "code",
      "metadata": {
        "id": "JzILzo4UNcYM",
        "colab_type": "code",
        "colab": {}
      },
      "source": [
        "if fStemming:\n",
        "  dataset['Phrase'] = dataset['Phrase'].apply(lambda x: stemming(x))"
      ],
      "execution_count": 0,
      "outputs": []
    },
    {
      "cell_type": "code",
      "metadata": {
        "id": "tfcWAnNxSERs",
        "colab_type": "code",
        "colab": {}
      },
      "source": [
        "#Lemmatization\n",
        "wn = nltk.WordNetLemmatizer()\n",
        "ps = nltk.PorterStemmer()\n",
        "\n",
        "def lemmatization(token_txt):\n",
        "  text = [wn.lemmatize(word) for word in token_txt]\n",
        "  return text\n"
      ],
      "execution_count": 0,
      "outputs": []
    },
    {
      "cell_type": "code",
      "metadata": {
        "id": "q7NG1Jq8SGzC",
        "colab_type": "code",
        "colab": {}
      },
      "source": [
        "if fLemmatization:\n",
        "  dataset['Phrase'] = dataset['Phrase'].apply(lambda x: lemmatization(x))"
      ],
      "execution_count": 0,
      "outputs": []
    },
    {
      "cell_type": "code",
      "metadata": {
        "id": "XbNHQyTSWuiv",
        "colab_type": "code",
        "colab": {
          "base_uri": "https://localhost:8080/",
          "height": 204
        },
        "outputId": "5c139078-21d2-42c8-c9ae-8ad85378344b"
      },
      "source": [
        "#Printing head of the dataset\n",
        "dataset.head()"
      ],
      "execution_count": 50,
      "outputs": [
        {
          "output_type": "execute_result",
          "data": {
            "text/html": [
              "<div>\n",
              "<style scoped>\n",
              "    .dataframe tbody tr th:only-of-type {\n",
              "        vertical-align: middle;\n",
              "    }\n",
              "\n",
              "    .dataframe tbody tr th {\n",
              "        vertical-align: top;\n",
              "    }\n",
              "\n",
              "    .dataframe thead th {\n",
              "        text-align: right;\n",
              "    }\n",
              "</style>\n",
              "<table border=\"1\" class=\"dataframe\">\n",
              "  <thead>\n",
              "    <tr style=\"text-align: right;\">\n",
              "      <th></th>\n",
              "      <th>PhraseId</th>\n",
              "      <th>SentenceId</th>\n",
              "      <th>Phrase</th>\n",
              "      <th>Sentiment</th>\n",
              "    </tr>\n",
              "  </thead>\n",
              "  <tbody>\n",
              "    <tr>\n",
              "      <th>0</th>\n",
              "      <td>1</td>\n",
              "      <td>1</td>\n",
              "      <td>[series, escapade, demonstrating, adage, good,...</td>\n",
              "      <td>1</td>\n",
              "    </tr>\n",
              "    <tr>\n",
              "      <th>1</th>\n",
              "      <td>2</td>\n",
              "      <td>1</td>\n",
              "      <td>[series, escapade, demonstrating, adage, good,...</td>\n",
              "      <td>2</td>\n",
              "    </tr>\n",
              "    <tr>\n",
              "      <th>2</th>\n",
              "      <td>3</td>\n",
              "      <td>1</td>\n",
              "      <td>[series]</td>\n",
              "      <td>2</td>\n",
              "    </tr>\n",
              "    <tr>\n",
              "      <th>3</th>\n",
              "      <td>4</td>\n",
              "      <td>1</td>\n",
              "      <td>[]</td>\n",
              "      <td>2</td>\n",
              "    </tr>\n",
              "    <tr>\n",
              "      <th>4</th>\n",
              "      <td>5</td>\n",
              "      <td>1</td>\n",
              "      <td>[series]</td>\n",
              "      <td>2</td>\n",
              "    </tr>\n",
              "  </tbody>\n",
              "</table>\n",
              "</div>"
            ],
            "text/plain": [
              "   PhraseId  ...  Sentiment\n",
              "0         1  ...          1\n",
              "1         2  ...          2\n",
              "2         3  ...          2\n",
              "3         4  ...          2\n",
              "4         5  ...          2\n",
              "\n",
              "[5 rows x 4 columns]"
            ]
          },
          "metadata": {
            "tags": []
          },
          "execution_count": 50
        }
      ]
    },
    {
      "cell_type": "code",
      "metadata": {
        "id": "XebxMLR5hBoO",
        "colab_type": "code",
        "colab": {
          "base_uri": "https://localhost:8080/",
          "height": 221
        },
        "outputId": "b3327b07-db6b-4791-990a-ce49c5249dbb"
      },
      "source": [
        "#Split the database\n",
        "\n",
        "X_train, X_test, Y_train, Y_test = train_test_split(dataset['Phrase'], dataset['Sentiment'], test_size=0.3, random_state=2003)\n",
        "documents = []\n",
        "X_train = np.array(X_train.values.tolist())\n",
        "Y_train = np.array(Y_train.values.tolist())\n",
        "for i in range(len(X_train)):\n",
        "  documents.append([list(X_train[i]), Y_train[i]]) \n",
        "\n",
        "X_test = np.array(X_test.values.tolist())\n",
        "Y_test = np.array(Y_test.values.tolist())\n",
        "for i in range(len(X_test)):\n",
        "  documents.append([list(X_test[i]), Y_test[i]]) \n",
        "\n",
        "print(documents[0][0])\n",
        "\n",
        "\n",
        "dataset = pd.DataFrame(documents, columns=['text', 'sentiment']) \n",
        "dataset['join'] = dataset.text.apply(' '.join)\n",
        "\n",
        "dataset.head()"
      ],
      "execution_count": 51,
      "outputs": [
        {
          "output_type": "stream",
          "text": [
            "['age']\n"
          ],
          "name": "stdout"
        },
        {
          "output_type": "execute_result",
          "data": {
            "text/html": [
              "<div>\n",
              "<style scoped>\n",
              "    .dataframe tbody tr th:only-of-type {\n",
              "        vertical-align: middle;\n",
              "    }\n",
              "\n",
              "    .dataframe tbody tr th {\n",
              "        vertical-align: top;\n",
              "    }\n",
              "\n",
              "    .dataframe thead th {\n",
              "        text-align: right;\n",
              "    }\n",
              "</style>\n",
              "<table border=\"1\" class=\"dataframe\">\n",
              "  <thead>\n",
              "    <tr style=\"text-align: right;\">\n",
              "      <th></th>\n",
              "      <th>text</th>\n",
              "      <th>sentiment</th>\n",
              "      <th>join</th>\n",
              "    </tr>\n",
              "  </thead>\n",
              "  <tbody>\n",
              "    <tr>\n",
              "      <th>0</th>\n",
              "      <td>[age]</td>\n",
              "      <td>2</td>\n",
              "      <td>age</td>\n",
              "    </tr>\n",
              "    <tr>\n",
              "      <th>1</th>\n",
              "      <td>[gorgeous, epic]</td>\n",
              "      <td>4</td>\n",
              "      <td>gorgeous epic</td>\n",
              "    </tr>\n",
              "    <tr>\n",
              "      <th>2</th>\n",
              "      <td>[fan, grossout, comedy]</td>\n",
              "      <td>2</td>\n",
              "      <td>fan grossout comedy</td>\n",
              "    </tr>\n",
              "    <tr>\n",
              "      <th>3</th>\n",
              "      <td>[filmmaker, ascends, literally, olympus, art, ...</td>\n",
              "      <td>4</td>\n",
              "      <td>filmmaker ascends literally olympus art world</td>\n",
              "    </tr>\n",
              "    <tr>\n",
              "      <th>4</th>\n",
              "      <td>[twisting, mystery]</td>\n",
              "      <td>2</td>\n",
              "      <td>twisting mystery</td>\n",
              "    </tr>\n",
              "  </tbody>\n",
              "</table>\n",
              "</div>"
            ],
            "text/plain": [
              "                                                text  ...                                           join\n",
              "0                                              [age]  ...                                            age\n",
              "1                                   [gorgeous, epic]  ...                                  gorgeous epic\n",
              "2                            [fan, grossout, comedy]  ...                            fan grossout comedy\n",
              "3  [filmmaker, ascends, literally, olympus, art, ...  ...  filmmaker ascends literally olympus art world\n",
              "4                                [twisting, mystery]  ...                               twisting mystery\n",
              "\n",
              "[5 rows x 3 columns]"
            ]
          },
          "metadata": {
            "tags": []
          },
          "execution_count": 51
        }
      ]
    },
    {
      "cell_type": "code",
      "metadata": {
        "id": "XxPION4LRazd",
        "colab_type": "code",
        "colab": {}
      },
      "source": [
        "X_train, X_test, Y_train, Y_test = train_test_split(dataset['join'],  dataset['sentiment'], test_size=0.3, random_state=2003)"
      ],
      "execution_count": 0,
      "outputs": []
    },
    {
      "cell_type": "code",
      "metadata": {
        "id": "WgA0Y2-401nv",
        "colab_type": "code",
        "colab": {}
      },
      "source": [
        "#Vectorization \n",
        "\n",
        "from sklearn.feature_extraction.text import CountVectorizer , TfidfVectorizer\n",
        "from keras.utils import to_categorical\n",
        "\n",
        "vectorizer = TfidfVectorizer(max_features = 2500)#, # ngram_range=(1, 1)) \n",
        "X = vectorizer.fit_transform(dataset[\"join\"]) \n",
        "Y = dataset['sentiment'] \n",
        " \n",
        "X_train = vectorizer.transform(X_train).toarray()\n",
        "Y_train = Y_train \n",
        "X_test = vectorizer.transform(X_test).toarray()\n",
        "Y_test = Y_test\n",
        "\n"
      ],
      "execution_count": 0,
      "outputs": []
    },
    {
      "cell_type": "code",
      "metadata": {
        "id": "dD4ZenB6Cx-B",
        "colab_type": "code",
        "colab": {
          "base_uri": "https://localhost:8080/",
          "height": 221
        },
        "outputId": "b3fdc384-f769-41c3-ba01-932465d5eb3a"
      },
      "source": [
        "Y_test"
      ],
      "execution_count": 54,
      "outputs": [
        {
          "output_type": "execute_result",
          "data": {
            "text/plain": [
              "13510     2\n",
              "61932     0\n",
              "82549     1\n",
              "137718    3\n",
              "121990    2\n",
              "         ..\n",
              "94224     2\n",
              "135456    2\n",
              "154729    1\n",
              "23031     1\n",
              "57870     2\n",
              "Name: sentiment, Length: 46818, dtype: int64"
            ]
          },
          "metadata": {
            "tags": []
          },
          "execution_count": 54
        }
      ]
    },
    {
      "cell_type": "code",
      "metadata": {
        "id": "zFwYA1tWwnhC",
        "colab_type": "code",
        "colab": {}
      },
      "source": [
        "#importing keras and thhen model parameters\n",
        "import keras\n",
        "from keras.datasets import mnist\n",
        "from keras.models import Sequential\n",
        "from keras.layers import Dense, Dropout, Flatten\n",
        "from keras.layers import Conv1D, MaxPooling1D\n",
        "from keras import backend as K"
      ],
      "execution_count": 0,
      "outputs": []
    },
    {
      "cell_type": "code",
      "metadata": {
        "id": "kGCqfGuqSaJq",
        "colab_type": "code",
        "colab": {}
      },
      "source": [
        "#defining batch size and number of epochs\n",
        "batch_size = 64\n",
        "num_classes = 5\n",
        "epochs = 12"
      ],
      "execution_count": 0,
      "outputs": []
    },
    {
      "cell_type": "code",
      "metadata": {
        "id": "3uj80Ku2Socv",
        "colab_type": "code",
        "colab": {
          "base_uri": "https://localhost:8080/",
          "height": 34
        },
        "outputId": "579da6e2-a707-4533-e867-c99ca404aa22"
      },
      "source": [
        "X_train.shape"
      ],
      "execution_count": 57,
      "outputs": [
        {
          "output_type": "execute_result",
          "data": {
            "text/plain": [
              "(109242, 2500)"
            ]
          },
          "metadata": {
            "tags": []
          },
          "execution_count": 57
        }
      ]
    },
    {
      "cell_type": "code",
      "metadata": {
        "id": "XYgWOcu3S_U2",
        "colab_type": "code",
        "colab": {
          "base_uri": "https://localhost:8080/",
          "height": 136
        },
        "outputId": "18922ba0-df65-4de7-eb73-cb0573ccf54a"
      },
      "source": [
        "Y_train = keras.utils.to_categorical(Y_train, num_classes)\n",
        "Y_test = keras.utils.to_categorical(Y_test, num_classes)\n",
        "Y_test"
      ],
      "execution_count": 58,
      "outputs": [
        {
          "output_type": "execute_result",
          "data": {
            "text/plain": [
              "array([[0., 0., 1., 0., 0.],\n",
              "       [1., 0., 0., 0., 0.],\n",
              "       [0., 1., 0., 0., 0.],\n",
              "       ...,\n",
              "       [0., 1., 0., 0., 0.],\n",
              "       [0., 1., 0., 0., 0.],\n",
              "       [0., 0., 1., 0., 0.]], dtype=float32)"
            ]
          },
          "metadata": {
            "tags": []
          },
          "execution_count": 58
        }
      ]
    },
    {
      "cell_type": "code",
      "metadata": {
        "id": "g9nI9vUPUsRX",
        "colab_type": "code",
        "colab": {}
      },
      "source": [
        "#Code for recall, precision and F1 score\n",
        "from keras import backend as K\n",
        "\n",
        "def recall_measure(y_true, y_pred):\n",
        "    true_positives = K.sum(K.round(K.clip(y_true * y_pred, 0, 1)))\n",
        "    possible_positives = K.sum(K.round(K.clip(y_true, 0, 1)))\n",
        "    recall = true_positives / (possible_positives + K.epsilon())\n",
        "    return recall\n",
        "\n",
        "def precision_measure(y_true, y_pred):\n",
        "    true_positives = K.sum(K.round(K.clip(y_true * y_pred, 0, 1)))\n",
        "    predicted_positives = K.sum(K.round(K.clip(y_pred, 0, 1)))\n",
        "    precision = true_positives / (predicted_positives + K.epsilon())\n",
        "    return precision\n",
        "\n",
        "def f1_measure(y_true, y_pred):\n",
        "    precision = precision_measure(y_true, y_pred)\n",
        "    recall = recall_measure(y_true, y_pred)\n",
        "    return 2*((precision*recall)/(precision+recall+K.epsilon()))"
      ],
      "execution_count": 0,
      "outputs": []
    },
    {
      "cell_type": "code",
      "metadata": {
        "id": "0hHjUmvCe_2l",
        "colab_type": "code",
        "colab": {
          "base_uri": "https://localhost:8080/",
          "height": 391
        },
        "outputId": "c5c04400-79f9-475e-fac6-afa1f4873e78"
      },
      "source": [
        "#Defining the model\n",
        "model = Sequential()\n",
        "model.add(Conv1D(filters=64, kernel_size=3,\n",
        "                 activation='relu',\n",
        "                 input_shape=(2500,1)))\n",
        "\n",
        "model.add(Conv1D(filters=64, kernel_size=3, activation='relu'))\n",
        "\n",
        "model.add(MaxPooling1D(pool_size=1))\n",
        "model.add(Dropout(rate = 0.25))\n",
        "model.add(Flatten())\n",
        "model.add(Dense(64, activation='relu'))\n",
        "# model.add(Dropout(0.5))\n",
        "model.add(Dense(num_classes, activation='sigmoid'))\n",
        "model.summary()"
      ],
      "execution_count": 60,
      "outputs": [
        {
          "output_type": "stream",
          "text": [
            "Model: \"sequential_2\"\n",
            "_________________________________________________________________\n",
            "Layer (type)                 Output Shape              Param #   \n",
            "=================================================================\n",
            "conv1d_3 (Conv1D)            (None, 2498, 64)          256       \n",
            "_________________________________________________________________\n",
            "conv1d_4 (Conv1D)            (None, 2496, 64)          12352     \n",
            "_________________________________________________________________\n",
            "max_pooling1d_2 (MaxPooling1 (None, 2496, 64)          0         \n",
            "_________________________________________________________________\n",
            "dropout_2 (Dropout)          (None, 2496, 64)          0         \n",
            "_________________________________________________________________\n",
            "flatten_2 (Flatten)          (None, 159744)            0         \n",
            "_________________________________________________________________\n",
            "dense_3 (Dense)              (None, 64)                10223680  \n",
            "_________________________________________________________________\n",
            "dense_4 (Dense)              (None, 5)                 325       \n",
            "=================================================================\n",
            "Total params: 10,236,613\n",
            "Trainable params: 10,236,613\n",
            "Non-trainable params: 0\n",
            "_________________________________________________________________\n"
          ],
          "name": "stdout"
        }
      ]
    },
    {
      "cell_type": "code",
      "metadata": {
        "id": "re4qdVOifhJU",
        "colab_type": "code",
        "colab": {}
      },
      "source": [
        "#Compile the model\n",
        "model.compile(loss=keras.losses.categorical_crossentropy,\n",
        "              optimizer=keras.optimizers.Nadam(),\n",
        "              metrics=['accuracy',f1_measure,precision_measure,recall_measure])"
      ],
      "execution_count": 0,
      "outputs": []
    },
    {
      "cell_type": "code",
      "metadata": {
        "id": "vWnLccEfgKbH",
        "colab_type": "code",
        "colab": {}
      },
      "source": [
        "X_train = X_train.reshape(X_train.shape[0], X_train.shape[1], 1)\n",
        "X_test = X_test.reshape(X_test.shape[0], X_test.shape[1], 1)"
      ],
      "execution_count": 0,
      "outputs": []
    },
    {
      "cell_type": "code",
      "metadata": {
        "id": "RONgsKL5gkqQ",
        "colab_type": "code",
        "colab": {
          "base_uri": "https://localhost:8080/",
          "height": 547
        },
        "outputId": "510411be-18ee-4d0c-a59b-53ef274bd717"
      },
      "source": [
        "#Train and test model to get results\n",
        "model.fit(X_train, Y_train,\n",
        "          batch_size=64,\n",
        "          epochs=15)\n",
        "score = model.evaluate(X_test, Y_test, verbose=0)\n",
        "\n",
        "\n"
      ],
      "execution_count": 63,
      "outputs": [
        {
          "output_type": "stream",
          "text": [
            "Epoch 1/15\n",
            "109242/109242 [==============================] - 80s 736us/step - loss: 1.0695 - acc: 0.5600 - f1_measure: 0.5831 - precision_measure: 0.4893 - recall_measure: 0.7316\n",
            "Epoch 2/15\n",
            "109242/109242 [==============================] - 80s 734us/step - loss: 0.9531 - acc: 0.6171 - f1_measure: 0.6251 - precision_measure: 0.5686 - recall_measure: 0.6960\n",
            "Epoch 3/15\n",
            "109242/109242 [==============================] - 81s 742us/step - loss: 0.9006 - acc: 0.6365 - f1_measure: 0.6341 - precision_measure: 0.5934 - recall_measure: 0.6830\n",
            "Epoch 4/15\n",
            "109242/109242 [==============================] - 81s 740us/step - loss: 0.8590 - acc: 0.6525 - f1_measure: 0.6415 - precision_measure: 0.6073 - recall_measure: 0.6823\n",
            "Epoch 5/15\n",
            "109242/109242 [==============================] - 81s 738us/step - loss: 0.8252 - acc: 0.6650 - f1_measure: 0.6494 - precision_measure: 0.6183 - recall_measure: 0.6863\n",
            "Epoch 6/15\n",
            "109242/109242 [==============================] - 80s 733us/step - loss: 0.7986 - acc: 0.6729 - f1_measure: 0.6555 - precision_measure: 0.6256 - recall_measure: 0.6909\n",
            "Epoch 7/15\n",
            "109242/109242 [==============================] - 80s 731us/step - loss: 0.7862 - acc: 0.6775 - f1_measure: 0.6555 - precision_measure: 0.6311 - recall_measure: 0.6861\n",
            "Epoch 8/15\n",
            "109242/109242 [==============================] - 80s 728us/step - loss: 0.7587 - acc: 0.6867 - f1_measure: 0.6676 - precision_measure: 0.6303 - recall_measure: 0.7120\n",
            "Epoch 9/15\n",
            "109242/109242 [==============================] - 79s 726us/step - loss: 0.7408 - acc: 0.6914 - f1_measure: 0.6734 - precision_measure: 0.6319 - recall_measure: 0.7230\n",
            "Epoch 10/15\n",
            "109242/109242 [==============================] - 79s 727us/step - loss: 0.7262 - acc: 0.6961 - f1_measure: 0.6778 - precision_measure: 0.6333 - recall_measure: 0.7314\n",
            "Epoch 11/15\n",
            "109242/109242 [==============================] - 80s 735us/step - loss: 0.7129 - acc: 0.6998 - f1_measure: 0.6815 - precision_measure: 0.6353 - recall_measure: 0.7374\n",
            "Epoch 12/15\n",
            "109242/109242 [==============================] - 81s 738us/step - loss: 0.6995 - acc: 0.7034 - f1_measure: 0.6859 - precision_measure: 0.6344 - recall_measure: 0.7485\n",
            "Epoch 13/15\n",
            "109242/109242 [==============================] - 80s 736us/step - loss: 0.6904 - acc: 0.7061 - f1_measure: 0.6907 - precision_measure: 0.6359 - recall_measure: 0.7580\n",
            "Epoch 14/15\n",
            "109242/109242 [==============================] - 80s 736us/step - loss: 0.6821 - acc: 0.7080 - f1_measure: 0.6928 - precision_measure: 0.6348 - recall_measure: 0.7644\n",
            "Epoch 15/15\n",
            "109242/109242 [==============================] - 80s 735us/step - loss: 0.6736 - acc: 0.7113 - f1_measure: 0.6957 - precision_measure: 0.6353 - recall_measure: 0.7708\n"
          ],
          "name": "stdout"
        }
      ]
    },
    {
      "cell_type": "code",
      "metadata": {
        "id": "E6ZsIa2OHedu",
        "colab_type": "code",
        "colab": {
          "base_uri": "https://localhost:8080/",
          "height": 102
        },
        "outputId": "8e6d25fe-ebf0-4ecd-eb85-5d5a4dbc3337"
      },
      "source": [
        "print('Test loss:', score[0])\n",
        "print('Test accuracy:', score[1])\n",
        "print('F1 score:', score[2])\n",
        "print('Precision:', score[3])\n",
        "print('recall:', score[4])\n",
        "\n"
      ],
      "execution_count": 64,
      "outputs": [
        {
          "output_type": "stream",
          "text": [
            "Test loss: 1.1009235153021433\n",
            "Test accuracy: 0.6270665128796616\n",
            "F1 score: 0.6255403667799131\n",
            "Precision: 0.5679140529912042\n",
            "recall: 0.6993677645350079\n"
          ],
          "name": "stdout"
        }
      ]
    },
    {
      "cell_type": "code",
      "metadata": {
        "id": "-ENc9CaHHt9C",
        "colab_type": "code",
        "colab": {}
      },
      "source": [
        "from keras.models import load_model\n",
        "\n",
        "model.save('1104360_1dconv_reg.h5')"
      ],
      "execution_count": 0,
      "outputs": []
    },
    {
      "cell_type": "code",
      "metadata": {
        "id": "qKL9TKryjNfd",
        "colab_type": "code",
        "colab": {
          "base_uri": "https://localhost:8080/",
          "height": 130
        },
        "outputId": "b3e43a64-abd4-46ab-92b5-8637589f551c"
      },
      "source": [
        "from keras.models import load_model\n",
        "\n",
        "model = load_model('/content/1104360_1dconv_reg.h5', \n",
        "                   custom_objects = {'f1:' f1_measure,  'precision:' precision_measure, 'recall :' recall_measure})"
      ],
      "execution_count": 70,
      "outputs": [
        {
          "output_type": "error",
          "ename": "SyntaxError",
          "evalue": "ignored",
          "traceback": [
            "\u001b[0;36m  File \u001b[0;32m\"<ipython-input-70-27627af92ff7>\"\u001b[0;36m, line \u001b[0;32m4\u001b[0m\n\u001b[0;31m    custom_objects = {'f1:' f1_measure,  'precision:' precision_measure, 'recall :' recall_measure})\u001b[0m\n\u001b[0m                                     ^\u001b[0m\n\u001b[0;31mSyntaxError\u001b[0m\u001b[0;31m:\u001b[0m invalid syntax\n"
          ]
        }
      ]
    },
    {
      "cell_type": "code",
      "metadata": {
        "id": "mdMTlvMgo0oD",
        "colab_type": "code",
        "colab": {}
      },
      "source": [
        ""
      ],
      "execution_count": 0,
      "outputs": []
    }
  ]
}